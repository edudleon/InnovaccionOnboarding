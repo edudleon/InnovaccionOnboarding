{
 "cells": [
  {
   "cell_type": "markdown",
   "source": [
    "<h1>#Logica booleana</h1>\r\n",
    "Notebook para poder trabajar con condicionales if, else y elif, condicionales anidadas y los operadores and y or"
   ],
   "metadata": {}
  },
  {
   "cell_type": "markdown",
   "source": [
    "Para este ejercicio, escribirás una lógica condicional que imprima una advertencia si un asteroide se acerca a la Tierra demasiado rápido. La velocidad del asteroide varía dependiendo de lo cerca que esté del sol, y cualquier velocidad superior a 25 kilómetros por segundo (km/s) merece una advertencia.\r\n",
    "\r\n",
    "Un asteroide se acerca, y viaja a una velocidad de 49 km/s."
   ],
   "metadata": {}
  },
  {
   "cell_type": "code",
   "execution_count": 33,
   "source": [
    "velocidad_asteroide = 49 #Km/s\r\n",
    "if(velocidad_asteroide > 25):\r\n",
    "    print (\"Advertencia, asteroide aproximandose a la tierra\")\r\n",
    "else:\r\n",
    "    print (\"Todos a salvo... de momento\")"
   ],
   "outputs": [
    {
     "output_type": "stream",
     "name": "stdout",
     "text": [
      "Advertencia, asteroide aproximandose a la tierra\n"
     ]
    }
   ],
   "metadata": {}
  },
  {
   "cell_type": "markdown",
   "source": [
    "Si un asteroide entra en la atmósfera de la Tierra a una velocidad mayor o igual a 20 km/s, a veces produce un rayo de luz que se puede ver desde la Tierra. Escribe la lógica condicional que usa declaraciones if, else, y elif para alertar a las personas de todo el mundo que deben buscar un asteroide en el cielo. ¡Hay uno que se dirige a la tierra ahora a una velocidad de 19 km/s!"
   ],
   "metadata": {}
  },
  {
   "cell_type": "code",
   "execution_count": 34,
   "source": [
    "velocidad_asteroide = 22 #Km/s\r\n",
    "if(velocidad_asteroide > 20):\r\n",
    "    print (\"Voltear al cielo, busquen la luz!\")\r\n",
    "elif(velocidad_asteroide == 20):\r\n",
    "    print (\"Voltear al cielo, busquen la luz!\")\r\n",
    "else:\r\n",
    "    print (\"no hay nada que ver\")"
   ],
   "outputs": [
    {
     "output_type": "stream",
     "name": "stdout",
     "text": [
      "Voltear al cielo, busquen la luz!\n"
     ]
    }
   ],
   "metadata": {}
  },
  {
   "cell_type": "markdown",
   "source": [
    "*Los asteroides de menos de 25 metros en su dimensión más grande probablemente se quemarán a medida que entren en la atmósfera de la Tierra.\r\n",
    "\r\n",
    "Si una pieza de un asteroide que es más grande que 25 metros pero más pequeña que 1000 metros golpeara la Tierra, causaría mucho daño.\r\n",
    "También discutimos en el ejercicio anterior que:\r\n",
    "\r\n",
    "--La velocidad del asteroide varía en función de lo cerca que esté del sol, y cualquier velocidad superior a 25 kilómetros por segundo (km/s) merece una advertencia.\r\n",
    "--Si un asteroide entra en la atmósfera de la Tierra a una velocidad mayor o igual a 20 km/s, a veces produce un rayo de luz que se puede ver desde la Tierra."
   ],
   "metadata": {}
  },
  {
   "cell_type": "code",
   "execution_count": 35,
   "source": [
    "velocidad_asteroide = 27 #Km/s\r\n",
    "tamaño_asteroide = 200 #metros\r\n",
    "\r\n",
    "if(velocidad_asteroide > 25 and tamaño_asteroide > 25 and tamaño_asteroide < 1000):\r\n",
    "    print (\"Advertencia, asteroide muy grande y peligroso aproximandose a la tierra\")\r\n",
    "elif(velocidad_asteroide > 25):\r\n",
    "       print (\"Advertencia, asteroide aproximandose a la tierra\")\r\n",
    "elif(velocidad_asteroide >= 20):\r\n",
    "       print (\"Voltear al cielo, busquen la luz!\")\r\n",
    "else:\r\n",
    "    print (\"Todos a salvo... de momento\")"
   ],
   "outputs": [
    {
     "output_type": "stream",
     "name": "stdout",
     "text": [
      "Advertencia, asteroide aproximandose a la tierra\n"
     ]
    }
   ],
   "metadata": {}
  }
 ],
 "metadata": {
  "orig_nbformat": 4,
  "language_info": {
   "name": "python",
   "version": "3.10.2",
   "mimetype": "text/x-python",
   "codemirror_mode": {
    "name": "ipython",
    "version": 3
   },
   "pygments_lexer": "ipython3",
   "nbconvert_exporter": "python",
   "file_extension": ".py"
  },
  "kernelspec": {
   "name": "python3",
   "display_name": "Python 3.10.2 64-bit"
  },
  "interpreter": {
   "hash": "9dbb5876042b335627474d96de98e6d73df4723efd059702f0a28d52a6f2d5fc"
  }
 },
 "nbformat": 4,
 "nbformat_minor": 2
}