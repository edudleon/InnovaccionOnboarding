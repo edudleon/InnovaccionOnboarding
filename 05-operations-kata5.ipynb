{
 "cells": [
  {
   "cell_type": "markdown",
   "source": [
    "<h1> Ejercicio 1: Utilizar operadores aritmeticos </h1>"
   ],
   "metadata": {}
  },
  {
   "cell_type": "markdown",
   "source": [
    "Exploremos cómo podemos crear un programa que pueda calcular la distancia entre dos planetas. \r\n",
    "<br> Comenzaremos usando dos distancias de planetas: Tierra (149.597.870 km) y Júpiter (778.547.200 km)."
   ],
   "metadata": {}
  },
  {
   "cell_type": "code",
   "execution_count": 14,
   "source": [
    "# Creacion de variables\r\n",
    "distance_earth=149597870 \r\n",
    "distance_jupiter=778547200"
   ],
   "outputs": [],
   "metadata": {}
  },
  {
   "cell_type": "markdown",
   "source": [
    "Con los valores obtenidos, es el momento de añadir el código para realizar la operación. <br>Restarás el primer planeta del segundo para determinar la distancia en kilómetros.<br> A continuación, puedes convertir la distancia del kilómetro en millas dividiendola por 1.609344. (Fe de erratas: multiplicar por .62137)"
   ],
   "metadata": {}
  },
  {
   "cell_type": "code",
   "execution_count": 15,
   "source": [
    "distance_earth=149597870 \r\n",
    "distance_jupiter=778547200\r\n",
    "distance = distance_earth-distance_jupiter\r\n",
    "print(\"Distancia en KM: \" + str(abs(distance)))\r\n",
    "print(\"Distancia en Millas: \" +str(round((abs(distance)*.621))))"
   ],
   "outputs": [
    {
     "output_type": "stream",
     "name": "stdout",
     "text": [
      "Distancia en KM: 628949330\n",
      "Distancia en Millas: 390577534\n"
     ]
    }
   ],
   "metadata": {}
  },
  {
   "cell_type": "markdown",
   "source": [
    "<h1> Ejercicio 2: Convierte cadenas en números y usa valores absolutos</h1>"
   ],
   "metadata": {}
  },
  {
   "cell_type": "markdown",
   "source": [
    "Usando input, agrega el código para leer la distancia del sol para cada planeta, considerando 2 planetas."
   ],
   "metadata": {}
  },
  {
   "cell_type": "code",
   "execution_count": 16,
   "source": [
    "numero_1 = input(\"Ingresa el valor del primer planeta: \")\r\n",
    "numero_2 = input(\"Ingresa el valor del segundo planeta: \")"
   ],
   "outputs": [],
   "metadata": {}
  },
  {
   "cell_type": "markdown",
   "source": [
    "Debido a que input devuelve valores de cadena, necesitamos convertirlos en números. Para nuestro ejemplo, usaremos i"
   ],
   "metadata": {}
  },
  {
   "cell_type": "code",
   "execution_count": 17,
   "source": [
    "# Para evitar conversion de variable, se ahorra una linea y se castea en captura\r\n",
    "numero_1 = int(input(\"Ingresa el valor del primer planeta: \")) \r\n",
    "numero_2 = int(input(\"Ingresa el valor del segundo planeta: \"))"
   ],
   "outputs": [],
   "metadata": {}
  },
  {
   "cell_type": "markdown",
   "source": [
    "Con los valores almacenados como números, ahora puedes agregar el código para realizar el cálculo, restando el primer planeta del segundo. Debido a que el segundo planeta podría ser un número mayor, usarás abs para convertirlo a un valor absoluto. También agregarás el código para mostrar el resultado en millas multiplicando la distancia del kilómetro por 0.621"
   ],
   "metadata": {}
  },
  {
   "cell_type": "code",
   "execution_count": 18,
   "source": [
    "distance = numero_1 - numero_2\r\n",
    "print(\"Distancia en KM: \" + str(abs(distance)))\r\n",
    "print(\"Distancia en Millas: \" +str(round((abs(distance)*.621))))"
   ],
   "outputs": [
    {
     "output_type": "stream",
     "name": "stdout",
     "text": [
      "Distancia en KM: 10\n",
      "Distancia en Millas: 6\n"
     ]
    }
   ],
   "metadata": {}
  }
 ],
 "metadata": {
  "orig_nbformat": 4,
  "language_info": {
   "name": "python",
   "version": "3.10.2",
   "mimetype": "text/x-python",
   "codemirror_mode": {
    "name": "ipython",
    "version": 3
   },
   "pygments_lexer": "ipython3",
   "nbconvert_exporter": "python",
   "file_extension": ".py"
  },
  "kernelspec": {
   "name": "python3",
   "display_name": "Python 3.10.2 64-bit"
  },
  "interpreter": {
   "hash": "9dbb5876042b335627474d96de98e6d73df4723efd059702f0a28d52a6f2d5fc"
  }
 },
 "nbformat": 4,
 "nbformat_minor": 2
}