{
 "cells": [
  {
   "cell_type": "markdown",
   "metadata": {},
   "source": [
    "<h1> Ejercicios Error Handling </h1>"
   ]
  },
  {
   "cell_type": "markdown",
   "metadata": {},
   "source": [
    "## Tracebacks"
   ]
  },
  {
   "cell_type": "code",
   "execution_count": 24,
   "metadata": {},
   "outputs": [
    {
     "ename": "FileNotFoundError",
     "evalue": "[Errno 2] No such file or directory: 'C:/Users/Eduardo/Downloads/config-file.txt'",
     "output_type": "error",
     "traceback": [
      "\u001b[1;31m---------------------------------------------------------------------------\u001b[0m",
      "\u001b[1;31mFileNotFoundError\u001b[0m                         Traceback (most recent call last)",
      "\u001b[1;32me:\\00.Capacitacion\\01.learning-Paths\\00.Software-Architect\\00.Software-developer\\Launchx\\01.Onboarding\\oboarding-workspace\\InnovaccionOnboarding-local\\InnovaccionOnboarding\\10-error-handling-kata10.ipynb Cell 3'\u001b[0m in \u001b[0;36m<module>\u001b[1;34m\u001b[0m\n\u001b[1;32m----> <a href='vscode-notebook-cell:/e%3A/00.Capacitacion/01.learning-Paths/00.Software-Architect/00.Software-developer/Launchx/01.Onboarding/oboarding-workspace/InnovaccionOnboarding-local/InnovaccionOnboarding/10-error-handling-kata10.ipynb#ch0000004?line=0'>1</a>\u001b[0m \u001b[39mopen\u001b[39;49m(\u001b[39m'\u001b[39;49m\u001b[39mC:/Users/Eduardo/Downloads/config-file.txt\u001b[39;49m\u001b[39m'\u001b[39;49m)\n",
      "\u001b[1;31mFileNotFoundError\u001b[0m: [Errno 2] No such file or directory: 'C:/Users/Eduardo/Downloads/config-file.txt'"
     ]
    }
   ],
   "source": [
    "open('C:/Users/Eduardo/Downloads/config-file.txt')"
   ]
  },
  {
   "cell_type": "markdown",
   "metadata": {},
   "source": [
    "## Error Handling"
   ]
  },
  {
   "cell_type": "code",
   "execution_count": 25,
   "metadata": {},
   "outputs": [
    {
     "name": "stdout",
     "output_type": "stream",
     "text": [
      "No se encuentra el archivo indicado, intenta con nueva ruta\n"
     ]
    }
   ],
   "source": [
    "try:\n",
    "    open('C:/Users/Eduardo/Downloads/config-file.txt')\n",
    "except FileNotFoundError:\n",
    "    print(\"No se encuentra el archivo indicado, intenta con nueva ruta\")"
   ]
  },
  {
   "cell_type": "code",
   "execution_count": 26,
   "metadata": {},
   "outputs": [
    {
     "ename": "PermissionError",
     "evalue": "[Errno 13] Permission denied: 'C:/Users/Eduardo/Downloads/config-file'",
     "output_type": "error",
     "traceback": [
      "\u001b[1;31m---------------------------------------------------------------------------\u001b[0m",
      "\u001b[1;31mPermissionError\u001b[0m                           Traceback (most recent call last)",
      "\u001b[1;32me:\\00.Capacitacion\\01.learning-Paths\\00.Software-Architect\\00.Software-developer\\Launchx\\01.Onboarding\\oboarding-workspace\\InnovaccionOnboarding-local\\InnovaccionOnboarding\\10-error-handling-kata10.ipynb Cell 6'\u001b[0m in \u001b[0;36m<module>\u001b[1;34m\u001b[0m\n\u001b[0;32m      <a href='vscode-notebook-cell:/e%3A/00.Capacitacion/01.learning-Paths/00.Software-Architect/00.Software-developer/Launchx/01.Onboarding/oboarding-workspace/InnovaccionOnboarding-local/InnovaccionOnboarding/10-error-handling-kata10.ipynb#ch0000009?line=0'>1</a>\u001b[0m \u001b[39mtry\u001b[39;00m:\n\u001b[1;32m----> <a href='vscode-notebook-cell:/e%3A/00.Capacitacion/01.learning-Paths/00.Software-Architect/00.Software-developer/Launchx/01.Onboarding/oboarding-workspace/InnovaccionOnboarding-local/InnovaccionOnboarding/10-error-handling-kata10.ipynb#ch0000009?line=1'>2</a>\u001b[0m     \u001b[39mopen\u001b[39;49m(\u001b[39m'\u001b[39;49m\u001b[39mC:/Users/Eduardo/Downloads/config-file\u001b[39;49m\u001b[39m'\u001b[39;49m) \u001b[39m#Da un error diferente demostrando el manejo de errores especifico que se necesita\u001b[39;00m\n\u001b[0;32m      <a href='vscode-notebook-cell:/e%3A/00.Capacitacion/01.learning-Paths/00.Software-Architect/00.Software-developer/Launchx/01.Onboarding/oboarding-workspace/InnovaccionOnboarding-local/InnovaccionOnboarding/10-error-handling-kata10.ipynb#ch0000009?line=2'>3</a>\u001b[0m \u001b[39mexcept\u001b[39;00m \u001b[39mFileNotFoundError\u001b[39;00m: \n\u001b[0;32m      <a href='vscode-notebook-cell:/e%3A/00.Capacitacion/01.learning-Paths/00.Software-Architect/00.Software-developer/Launchx/01.Onboarding/oboarding-workspace/InnovaccionOnboarding-local/InnovaccionOnboarding/10-error-handling-kata10.ipynb#ch0000009?line=3'>4</a>\u001b[0m     \u001b[39mprint\u001b[39m(\u001b[39m\"\u001b[39m\u001b[39mNo se encuentra el archivo indicado, intenta con nueva ruta\u001b[39m\u001b[39m\"\u001b[39m)\n",
      "\u001b[1;31mPermissionError\u001b[0m: [Errno 13] Permission denied: 'C:/Users/Eduardo/Downloads/config-file'"
     ]
    }
   ],
   "source": [
    "try:\n",
    "    open('C:/Users/Eduardo/Downloads/config-file') #Da un error diferente demostrando el manejo de errores especifico que se necesita\n",
    "except FileNotFoundError: \n",
    "    print(\"No se encuentra el archivo indicado, intenta con nueva ruta\")"
   ]
  },
  {
   "cell_type": "code",
   "execution_count": 27,
   "metadata": {},
   "outputs": [
    {
     "name": "stdout",
     "output_type": "stream",
     "text": [
      "No se encuentra el archivo indicado, intenta con nueva ruta\n"
     ]
    }
   ],
   "source": [
    "try:\n",
    "    open('C:/Users/Eduardo/Downloads/config-file.txt')\n",
    "except Exception: # No es practico, porque cacha todas las exepciones evita miticacion especifica,\n",
    "                  # duda existe jerarquia como en Java? (herencia)\n",
    "    print(\"No se encuentra el archivo indicado, intenta con nueva ruta\")"
   ]
  },
  {
   "cell_type": "code",
   "execution_count": 28,
   "metadata": {},
   "outputs": [
    {
     "name": "stdout",
     "output_type": "stream",
     "text": [
      "No se tiene el permmiso adecuado para entrar al directorio\n"
     ]
    }
   ],
   "source": [
    "try:\n",
    "    open('C:/Users/Eduardo/Downloads/config-file')\n",
    "except FileNotFoundError: \n",
    "    print(\"No se encuentra el archivo indicado, intenta con nueva ruta\")\n",
    "except PermissionError: \n",
    "    print(\"No se tiene el permmiso adecuado para entrar al directorio\")"
   ]
  },
  {
   "cell_type": "code",
   "execution_count": 29,
   "metadata": {},
   "outputs": [
    {
     "name": "stdout",
     "output_type": "stream",
     "text": [
      "No se tiene el permmiso adecuado para entrar al directorio\n"
     ]
    }
   ],
   "source": [
    "try:\n",
    "    open('C:/Users/Eduardo/Downloads/config-file')\n",
    "except FileNotFoundError: \n",
    "    print(\"No se encuentra el archivo indicado, intenta con nueva ruta\")\n",
    "except PermissionError: \n",
    "    print(\"No se tiene el permmiso adecuado para entrar al directorio\")\n",
    "except (BlockingIOError, TimeoutError):\n",
    "    print(\"Error de I/O\")"
   ]
  },
  {
   "cell_type": "code",
   "execution_count": 30,
   "metadata": {},
   "outputs": [
    {
     "name": "stdout",
     "output_type": "stream",
     "text": [
      "No se encuentra el archivo indicado, intenta con nueva ruta(2, 'No such file or directory')\n"
     ]
    }
   ],
   "source": [
    "try:\n",
    "    open('C:/Users/Eduardo/Downloads/config-file.txt')\n",
    "except FileNotFoundError as err:\n",
    "    print(\"No se encuentra el archivo indicado, intenta con nueva ruta\" + str(err.args))"
   ]
  },
  {
   "cell_type": "code",
   "execution_count": 31,
   "metadata": {},
   "outputs": [
    {
     "name": "stdout",
     "output_type": "stream",
     "text": [
      "No se encuentra el archivo\n"
     ]
    }
   ],
   "source": [
    "try:\n",
    "    open('C:/Users/Eduardo/Downloads/config-file.txt')\n",
    "except OSError as err:\n",
    "    if(err.errno == 2):\n",
    "        print(\"No se encuentra el archivo\")\n",
    "    elif(err.errno == 13):\n",
    "        print(\"Se encontro el archvo pero no se pudo abrir\")\n",
    "    else:\n",
    "        print(\"Error no esperado \" + err.args)"
   ]
  },
  {
   "cell_type": "markdown",
   "metadata": {},
   "source": [
    "## Generando excepciones"
   ]
  },
  {
   "cell_type": "code",
   "execution_count": 32,
   "metadata": {},
   "outputs": [],
   "source": [
    "def water_left(astronauts, water_left, days_left):\n",
    "    daily_usage = astronauts * 11\n",
    "    total_usage = daily_usage * days_left\n",
    "    total_water_left = water_left - total_usage\n",
    "    return f\"El total de agua restantes despues de {days_left} dias es: {total_water_left} litros\""
   ]
  },
  {
   "cell_type": "code",
   "execution_count": 33,
   "metadata": {},
   "outputs": [
    {
     "data": {
      "text/plain": [
       "'Total water left after 2 days is: -10 liters'"
      ]
     },
     "execution_count": 33,
     "metadata": {},
     "output_type": "execute_result"
    }
   ],
   "source": [
    "water_left(5, 100, 2)\n",
    "# Genera una condicion no deseada litros negativos"
   ]
  },
  {
   "cell_type": "code",
   "execution_count": 34,
   "metadata": {},
   "outputs": [
    {
     "ename": "RuntimeError",
     "evalue": "No hay suficiente agua para 5 astronautas despues de  2 dias",
     "output_type": "error",
     "traceback": [
      "\u001b[1;31m---------------------------------------------------------------------------\u001b[0m",
      "\u001b[1;31mRuntimeError\u001b[0m                              Traceback (most recent call last)",
      "\u001b[1;32me:\\00.Capacitacion\\01.learning-Paths\\00.Software-Architect\\00.Software-developer\\Launchx\\01.Onboarding\\oboarding-workspace\\InnovaccionOnboarding-local\\InnovaccionOnboarding\\10-error-handling-kata10.ipynb Cell 15'\u001b[0m in \u001b[0;36m<module>\u001b[1;34m\u001b[0m\n\u001b[0;32m      <a href='vscode-notebook-cell:/e%3A/00.Capacitacion/01.learning-Paths/00.Software-Architect/00.Software-developer/Launchx/01.Onboarding/oboarding-workspace/InnovaccionOnboarding-local/InnovaccionOnboarding/10-error-handling-kata10.ipynb#ch0000017?line=5'>6</a>\u001b[0m         \u001b[39mraise\u001b[39;00m \u001b[39mRuntimeError\u001b[39;00m(\u001b[39mf\u001b[39m\u001b[39m\"\u001b[39m\u001b[39mNo hay suficiente agua para \u001b[39m\u001b[39m{\u001b[39;00mastronauts\u001b[39m}\u001b[39;00m\u001b[39m astronautas despues de  \u001b[39m\u001b[39m{\u001b[39;00mdays_left\u001b[39m}\u001b[39;00m\u001b[39m dias\u001b[39m\u001b[39m\"\u001b[39m)\n\u001b[0;32m      <a href='vscode-notebook-cell:/e%3A/00.Capacitacion/01.learning-Paths/00.Software-Architect/00.Software-developer/Launchx/01.Onboarding/oboarding-workspace/InnovaccionOnboarding-local/InnovaccionOnboarding/10-error-handling-kata10.ipynb#ch0000017?line=6'>7</a>\u001b[0m     \u001b[39mreturn\u001b[39;00m \u001b[39mf\u001b[39m\u001b[39m\"\u001b[39m\u001b[39mEl total de agua restantes despues de \u001b[39m\u001b[39m{\u001b[39;00mdays_left\u001b[39m}\u001b[39;00m\u001b[39m dias es: \u001b[39m\u001b[39m{\u001b[39;00mtotal_water_left\u001b[39m}\u001b[39;00m\u001b[39m litros\u001b[39m\u001b[39m\"\u001b[39m\n\u001b[1;32m----> <a href='vscode-notebook-cell:/e%3A/00.Capacitacion/01.learning-Paths/00.Software-Architect/00.Software-developer/Launchx/01.Onboarding/oboarding-workspace/InnovaccionOnboarding-local/InnovaccionOnboarding/10-error-handling-kata10.ipynb#ch0000017?line=8'>9</a>\u001b[0m water_left(\u001b[39m5\u001b[39;49m, \u001b[39m100\u001b[39;49m, \u001b[39m2\u001b[39;49m)\n",
      "\u001b[1;32me:\\00.Capacitacion\\01.learning-Paths\\00.Software-Architect\\00.Software-developer\\Launchx\\01.Onboarding\\oboarding-workspace\\InnovaccionOnboarding-local\\InnovaccionOnboarding\\10-error-handling-kata10.ipynb Cell 15'\u001b[0m in \u001b[0;36mwater_left\u001b[1;34m(astronauts, water_left, days_left)\u001b[0m\n\u001b[0;32m      <a href='vscode-notebook-cell:/e%3A/00.Capacitacion/01.learning-Paths/00.Software-Architect/00.Software-developer/Launchx/01.Onboarding/oboarding-workspace/InnovaccionOnboarding-local/InnovaccionOnboarding/10-error-handling-kata10.ipynb#ch0000017?line=3'>4</a>\u001b[0m total_water_left \u001b[39m=\u001b[39m water_left \u001b[39m-\u001b[39m total_usage\n\u001b[0;32m      <a href='vscode-notebook-cell:/e%3A/00.Capacitacion/01.learning-Paths/00.Software-Architect/00.Software-developer/Launchx/01.Onboarding/oboarding-workspace/InnovaccionOnboarding-local/InnovaccionOnboarding/10-error-handling-kata10.ipynb#ch0000017?line=4'>5</a>\u001b[0m \u001b[39mif\u001b[39;00m(total_water_left \u001b[39m<\u001b[39m \u001b[39m0\u001b[39m):\n\u001b[1;32m----> <a href='vscode-notebook-cell:/e%3A/00.Capacitacion/01.learning-Paths/00.Software-Architect/00.Software-developer/Launchx/01.Onboarding/oboarding-workspace/InnovaccionOnboarding-local/InnovaccionOnboarding/10-error-handling-kata10.ipynb#ch0000017?line=5'>6</a>\u001b[0m     \u001b[39mraise\u001b[39;00m \u001b[39mRuntimeError\u001b[39;00m(\u001b[39mf\u001b[39m\u001b[39m\"\u001b[39m\u001b[39mNo hay suficiente agua para \u001b[39m\u001b[39m{\u001b[39;00mastronauts\u001b[39m}\u001b[39;00m\u001b[39m astronautas despues de  \u001b[39m\u001b[39m{\u001b[39;00mdays_left\u001b[39m}\u001b[39;00m\u001b[39m dias\u001b[39m\u001b[39m\"\u001b[39m)\n\u001b[0;32m      <a href='vscode-notebook-cell:/e%3A/00.Capacitacion/01.learning-Paths/00.Software-Architect/00.Software-developer/Launchx/01.Onboarding/oboarding-workspace/InnovaccionOnboarding-local/InnovaccionOnboarding/10-error-handling-kata10.ipynb#ch0000017?line=6'>7</a>\u001b[0m \u001b[39mreturn\u001b[39;00m \u001b[39mf\u001b[39m\u001b[39m\"\u001b[39m\u001b[39mEl total de agua restantes despues de \u001b[39m\u001b[39m{\u001b[39;00mdays_left\u001b[39m}\u001b[39;00m\u001b[39m dias es: \u001b[39m\u001b[39m{\u001b[39;00mtotal_water_left\u001b[39m}\u001b[39;00m\u001b[39m litros\u001b[39m\u001b[39m\"\u001b[39m\n",
      "\u001b[1;31mRuntimeError\u001b[0m: No hay suficiente agua para 5 astronautas despues de  2 dias"
     ]
    }
   ],
   "source": [
    "def water_left(astronauts, water_left, days_left):\n",
    "    daily_usage = astronauts * 11\n",
    "    total_usage = daily_usage * days_left\n",
    "    total_water_left = water_left - total_usage\n",
    "    if(total_water_left < 0):\n",
    "        raise RuntimeError(f\"No hay suficiente agua para {astronauts} astronautas despues de  {days_left} dias\")\n",
    "    return f\"El total de agua restantes despues de {days_left} dias es: {total_water_left} litros\"\n",
    "\n",
    "water_left(5, 100, 2)"
   ]
  },
  {
   "cell_type": "code",
   "execution_count": 37,
   "metadata": {},
   "outputs": [
    {
     "name": "stdout",
     "output_type": "stream",
     "text": [
      "Manejo de errores\n"
     ]
    }
   ],
   "source": [
    "def alert_navigation_system(Error):\n",
    "    print (\"Manejo de errores\")\n",
    "    \n",
    "try:\n",
    "    water_left(5, 100, 2)\n",
    "except RuntimeError as err:\n",
    "    alert_navigation_system(err)"
   ]
  },
  {
   "cell_type": "code",
   "execution_count": 38,
   "metadata": {},
   "outputs": [
    {
     "name": "stdout",
     "output_type": "stream",
     "text": [
      "Se recibió la exepcion por tipos incompatibles\n"
     ]
    }
   ],
   "source": [
    "def alert_navigation_system(Error):\n",
    "    print (\"Manejo de errores tirados por metodo\")\n",
    "    \n",
    "def water_left(astronauts, water_left, days_left):\n",
    "    for argument in [astronauts, water_left, days_left]:\n",
    "        try:\n",
    "            argument / 10\n",
    "        except TypeError: #Arrojara error cuando el tipo no sea entero (cadenas, booleans, etc)\n",
    "            raise TypeError(f\"Todos los argumentos deben ser enterios, pero se recibio: '{argument}'\")\n",
    "    daily_usage = astronauts * 11\n",
    "    total_usage = daily_usage * days_left\n",
    "    total_water_left = water_left - total_usage\n",
    "    if total_water_left < 0:\n",
    "        raise RuntimeError(f\"No hay suficiente agua para {astronauts} astronautas despues de  {days_left} dias\")\n",
    "    return f\"El total de agua restantes despues de {days_left} dias es: {total_water_left} litros\"\n",
    "\n",
    "try:\n",
    "    water_left(5, \"100\", 2)\n",
    "except RuntimeError as err:\n",
    "    alert_navigation_system(err)\n",
    "except TypeError as err:\n",
    "    print (\"Se recibió la exepcion por tipos incompatibles\")"
   ]
  }
 ],
 "metadata": {
  "interpreter": {
   "hash": "9dbb5876042b335627474d96de98e6d73df4723efd059702f0a28d52a6f2d5fc"
  },
  "kernelspec": {
   "display_name": "Python 3.10.2 64-bit",
   "name": "python3"
  },
  "language_info": {
   "codemirror_mode": {
    "name": "ipython",
    "version": 3
   },
   "file_extension": ".py",
   "mimetype": "text/x-python",
   "name": "python",
   "nbconvert_exporter": "python",
   "pygments_lexer": "ipython3",
   "version": "3.10.2"
  },
  "orig_nbformat": 4
 },
 "nbformat": 4,
 "nbformat_minor": 2
}
