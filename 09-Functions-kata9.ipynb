{
 "cells": [
  {
   "cell_type": "markdown",
   "metadata": {},
   "source": [
    "<h1> Ejercicio 1: Trabajar con argumentos en funciones </h1>"
   ]
  },
  {
   "cell_type": "markdown",
   "metadata": {},
   "source": [
    "Comienza por crear una función que necesite tres lecturas de combustible y devuelva un informe"
   ]
  },
  {
   "cell_type": "code",
   "execution_count": 29,
   "metadata": {},
   "outputs": [],
   "source": [
    "# Función para leer 3 tanques de combustible y muestre el promedio\n",
    "def inform_fuel(tanque1, tanque2, tanque3):\n",
    "     average = (tanque1 + tanque2 + tanque3)/3\n",
    "     return f'Reporte de tanques: Tanque 1: {tanque1}%, Tanque 2: {tanque2}%, Tanque 3: {tanque3}%, Promedio de combustible: {round(average)}%'"
   ]
  },
  {
   "cell_type": "markdown",
   "metadata": {},
   "source": [
    "Ahora que hemos definido la función de informes, vamos a comprobarlo. Para esta misión, los tanques no están llenos"
   ]
  },
  {
   "cell_type": "code",
   "execution_count": 30,
   "metadata": {},
   "outputs": [
    {
     "name": "stdout",
     "output_type": "stream",
     "text": [
      "Reporte de tanques: Tanque 1: 20%, Tanque 2: 30%, Tanque 3: 80%, Promedio de combustible: 43%\n"
     ]
    }
   ],
   "source": [
    "# Llamamos a la función que genera el reporte print(funcion(tanque1, tanque2, tanque3))\n",
    "print(inform_fuel(20, 30, 80))"
   ]
  },
  {
   "cell_type": "markdown",
   "metadata": {},
   "source": [
    "En lugar de simplemente crear el informe, la función también está calculando el promedio. Mejora la legibilidad extrayendo el cálculo promedio de la función en una nueva función para que el promedio se pueda hacer de forma independiente:"
   ]
  },
  {
   "cell_type": "code",
   "execution_count": 31,
   "metadata": {},
   "outputs": [],
   "source": [
    "def calculate_average(tanque1, tanque2, tanque3): # No es reutilizable solo puede calcular promedio de 3 tanques \n",
    "    return (tanque1 + tanque2 + tanque3)/3\n",
    "\n",
    "def updated_inform_fuel(tanque1, tanque2, tanque3):\n",
    "    average = calculate_average(tanque1, tanque2, tanque3)\n",
    "    return f'Reporte de tanques: Tanque 1: {tanque1}%, Tanque 2: {tanque2}%, Tanque 3: {tanque3}%, Promedio de combustible: {round(average)}%'"
   ]
  },
  {
   "cell_type": "markdown",
   "metadata": {},
   "source": [
    "Ahora actualiza la función de informes para llamando a la nueva función del promedio:"
   ]
  },
  {
   "cell_type": "code",
   "execution_count": 32,
   "metadata": {},
   "outputs": [
    {
     "name": "stdout",
     "output_type": "stream",
     "text": [
      "Reporte de tanques: Tanque 1: 20%, Tanque 2: 30%, Tanque 3: 80%, Promedio de combustible: 43%\n"
     ]
    }
   ],
   "source": [
    "print(updated_inform_fuel(20, 30, 80))"
   ]
  },
  {
   "cell_type": "markdown",
   "metadata": {},
   "source": [
    "<h1> Ejercicio 2: Trabajar con argumentos de palabras clave </h1>"
   ]
  },
  {
   "cell_type": "markdown",
   "metadata": {},
   "source": [
    "Comienza por crear una función que creará un informe preciso de la misión"
   ]
  },
  {
   "cell_type": "code",
   "execution_count": 33,
   "metadata": {},
   "outputs": [
    {
     "name": "stdout",
     "output_type": "stream",
     "text": [
      "Reporte de la mission: Destino: Moon, tiempo necesario de pre-lanzamiento: 4 min, tiempo de vuelo: 4 min, combustible: 120 galones\n"
     ]
    }
   ],
   "source": [
    "# Función con un informe preciso de la misión. Considera hora de prelanzamiento, tiempo de vuelo, destino, tanque externo y tanque interno\n",
    "def mission_report(prelanunch_time=4, flight_time=40, destination='Moon', external_tank=80, internal_tank=80):\n",
    "   return f'Reporte de la mission: Destino: {destination}, tiempo necesario de pre-lanzamiento: {prelanunch_time} min, tiempo de vuelo: {prelanunch_time} min, combustible: {external_tank+internal_tank} galones'\n",
    "\n",
    "print(mission_report(external_tank=40))"
   ]
  },
  {
   "cell_type": "markdown",
   "metadata": {},
   "source": [
    "La función es problemática porque no se puede adaptar para minutos adicionales o tanques adicionales de combustible. Hazlo más flexible permitiendo cualquier número de pasos basados en el tiempo y cualquier número de tanques. En lugar de usar *args y **kwargs, aprovecha el hecho de que puedes usar cualquier nombre que desees. Asegurate que la función sea más legible mediante el uso de nombres de variables que están asociados con las entradas, como *minutes y **fuel_reservoirs"
   ]
  },
  {
   "cell_type": "code",
   "execution_count": 34,
   "metadata": {},
   "outputs": [
    {
     "name": "stdout",
     "output_type": "stream",
     "text": [
      "Reporte de la mission: Destino: Moon, tiempo total de vuelo: 139 min, combustible total: 160 galones\n"
     ]
    }
   ],
   "source": [
    "# Escribe tu nueva función de reporte considerando lo anterior\n",
    "def mission_report(destination='Moon', *minutes, **fuel_tanks):\n",
    "   return f'Reporte de la mission: Destino: {destination}, tiempo total de vuelo: {sum(minutes)} min, combustible total: {sum(fuel_tanks.values())} galones'\n",
    "\n",
    "print(mission_report('Moon', 10, 40, 89, internal=80, external=80))"
   ]
  },
  {
   "cell_type": "markdown",
   "metadata": {},
   "source": [
    "Debido a que el combustible que queda en los tanques es específico de cada tanque, actualiza la función para usar el nombre de cada tanque en el informe:"
   ]
  },
  {
   "cell_type": "code",
   "execution_count": 35,
   "metadata": {},
   "outputs": [
    {
     "name": "stdout",
     "output_type": "stream",
     "text": [
      "Reporte de la mission: Destino: Moon, tiempo total de vuelo: 139 min. Total de combustible: 160 galones, Reporte individual de tanques:  Tanque:internal 80 galones Tanque:external 80 galones\n"
     ]
    }
   ],
   "source": [
    "# Escribe tu nueva función\n",
    "def mission_report(destination='Moon', *minutes, **fuel_tanks):\n",
    "    total_gallons = 0\n",
    "    tank_report = ''\n",
    "    for tank, gallons in fuel_tanks.items():\n",
    "       total_gallons = total_gallons + gallons\n",
    "       tank_report += f' Tanque:{tank} {gallons} galones'\n",
    "    return f'Reporte de la mission: Destino: {destination}, tiempo total de vuelo: {sum(minutes)} min. Total de combustible: {total_gallons} galones, Reporte individual de tanques: ' + tank_report\n",
    "print(mission_report('Moon', 10, 40, 89, internal=80, external=80))"
   ]
  }
 ],
 "metadata": {
  "interpreter": {
   "hash": "9dbb5876042b335627474d96de98e6d73df4723efd059702f0a28d52a6f2d5fc"
  },
  "kernelspec": {
   "display_name": "Python 3.10.2 64-bit",
   "name": "python3"
  },
  "language_info": {
   "codemirror_mode": {
    "name": "ipython",
    "version": 3
   },
   "file_extension": ".py",
   "mimetype": "text/x-python",
   "name": "python",
   "nbconvert_exporter": "python",
   "pygments_lexer": "ipython3",
   "version": "3.10.2"
  },
  "orig_nbformat": 4
 },
 "nbformat": 4,
 "nbformat_minor": 2
}
