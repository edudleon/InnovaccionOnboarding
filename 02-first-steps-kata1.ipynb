{
 "cells": [
  {
   "cell_type": "markdown",
   "source": [
    "<h1>#Kata 1 - First steps/h1>\r\n",
    "Notebook para almacenar las funciones correspondientes a la kata 1"
   ],
   "metadata": {}
  },
  {
   "cell_type": "markdown",
   "source": [
    "## Date\r\n",
    "Construir una funcion para imprimir en pantalla la fecha"
   ],
   "metadata": {}
  },
  {
   "cell_type": "code",
   "execution_count": 6,
   "source": [
    "from datetime import date\r\n",
    "print (\"Today is: \" + str(date.today()))"
   ],
   "outputs": [
    {
     "output_type": "stream",
     "name": "stdout",
     "text": [
      "Today is: 2022-02-07\n"
     ]
    }
   ],
   "metadata": {}
  },
  {
   "cell_type": "markdown",
   "source": [
    "## Convertidor de unidades\r\n",
    "\r\n"
   ],
   "metadata": {}
  },
  {
   "cell_type": "code",
   "execution_count": 7,
   "source": [
    "parsec = 11\r\n",
    "lightyears = 0\r\n",
    "PL_CONVERSION = 3.26156 # almacenamos la conversion en un tipo constante si se desea utilizar posterior el valor\r\n",
    "lightyears = parsec * PL_CONVERSION\r\n",
    "print(str(parsec) + \" parsec, is \" + str(lightyears) + \" lightyears\")"
   ],
   "outputs": [
    {
     "output_type": "stream",
     "name": "stdout",
     "text": [
      "11 parsec, is 35.877159999999996 lightyears\n"
     ]
    }
   ],
   "metadata": {}
  }
 ],
 "metadata": {
  "orig_nbformat": 4,
  "language_info": {
   "name": "python",
   "version": "3.10.2",
   "mimetype": "text/x-python",
   "codemirror_mode": {
    "name": "ipython",
    "version": 3
   },
   "pygments_lexer": "ipython3",
   "nbconvert_exporter": "python",
   "file_extension": ".py"
  },
  "kernelspec": {
   "name": "python3",
   "display_name": "Python 3.10.2 64-bit"
  },
  "interpreter": {
   "hash": "9dbb5876042b335627474d96de98e6d73df4723efd059702f0a28d52a6f2d5fc"
  }
 },
 "nbformat": 4,
 "nbformat_minor": 2
}