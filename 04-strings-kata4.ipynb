{
 "cells": [
  {
   "cell_type": "markdown",
   "source": [
    "<h1>## Ejercicio 1: Transformar cadenas</h1>"
   ],
   "metadata": {}
  },
  {
   "cell_type": "markdown",
   "source": [
    "El texto con el que trabajarás es el siguiente:\r\n",
    "\r\n",
    "text = \"\"\"Interesting facts about the Moon. The Moon is Earth's only satellite. There are several interesting facts about the Moon and how it affects life here on Earth. \r\n",
    "On average, the Moon moves 4cm away from the Earth every year. This yearly drift is not significant enough to cause immediate effects on Earth. The highest daylight temperature of the Moon is 127 C.\"\"\""
   ],
   "metadata": {}
  },
  {
   "cell_type": "markdown",
   "source": [
    "Primero, divide el texto en cada oración para trabajar con su contenido:\r\n",
    "# Añade el código necesario"
   ],
   "metadata": {}
  },
  {
   "cell_type": "code",
   "execution_count": null,
   "source": [
    "text = \"\"\"Interesting facts about the Moon. The Moon is Earth's only satellite. There are several interesting facts about the Moon and how it affects life here on Earth. \r\n",
    "On average, the Moon moves 4cm away from the Earth every year. This yearly drift is not significant enough to cause immediate effects on Earth. The highest daylight temperature of the Moon is 127 C.\"\"\"\r\n",
    "\r\n",
    "items = text.split('.')\r\n",
    "print(items)"
   ],
   "outputs": [],
   "metadata": {}
  },
  {
   "cell_type": "markdown",
   "source": [
    "Ahora, define algunas palabras clave para búsqueda que te ayudarán a determinar si una oración contiene un hecho.\r\n",
    "# Define las palabras pista: average, temperature y distance suenan bien"
   ],
   "metadata": {}
  },
  {
   "cell_type": "code",
   "execution_count": null,
   "source": [
    "keyword_1 = \"average\"\r\n",
    "keyword_2 = \"temperature\"\r\n",
    "keyword_3 = \"distance\"\r\n"
   ],
   "outputs": [],
   "metadata": {}
  },
  {
   "cell_type": "markdown",
   "source": [
    "Cree un bucle para imprimir solo datos sobre la Luna que estén relacionados con las palabras clave definidas anteriormente:\r\n",
    "# Ciclo for para recorrer la cadena"
   ],
   "metadata": {}
  },
  {
   "cell_type": "code",
   "execution_count": null,
   "source": [
    "keyword_1 = \"average\"\r\n",
    "keyword_2 = \"temperature\"\r\n",
    "keyword_3 = \"distance\"\r\n",
    "\r\n",
    "for item in items:\r\n",
    "    item_lower = item.lower()\r\n",
    "    if keyword_1 in item_lower or keyword_2 in item_lower or keyword_3 in item_lower:\r\n",
    "        print(item)\r\n"
   ],
   "outputs": [],
   "metadata": {}
  },
  {
   "cell_type": "markdown",
   "source": [
    "Finalmente, actualiza el bucle(ciclo) para cambiar C a Celsius:\r\n",
    "# Ciclo para cambiar C a Celsius"
   ],
   "metadata": {}
  },
  {
   "cell_type": "code",
   "execution_count": null,
   "source": [
    "keyword_1 = \"average\"\r\n",
    "keyword_2 = \"temperature\"\r\n",
    "keyword_3 = \"distance\"\r\n",
    "\r\n",
    "for item in items:\r\n",
    "    item_lower = item.lower()\r\n",
    "    if keyword_1 in item_lower or keyword_2 in item_lower or keyword_3 in item_lower:\r\n",
    "        print(item.replace(\"C\", \"Celsius\"))\r\n"
   ],
   "outputs": [],
   "metadata": {}
  },
  {
   "cell_type": "markdown",
   "source": [
    "<h1>## Ejercicio 2: Formateando cadenas</h1>"
   ],
   "metadata": {}
  },
  {
   "cell_type": "markdown",
   "source": [
    "# Datos con los que vas a trabajar\r\n",
    "name = \"Moon\"\r\n",
    "gravity = 0.00162 # in kms\r\n",
    "planet = \"Earth\""
   ],
   "metadata": {}
  },
  {
   "cell_type": "markdown",
   "source": [
    "Primero, crea un título para el texto. Debido a que este texto trata sobre la gravedad en la Tierra y la Luna, úsalo para crear un título significativo. Utiliza las variables en lugar de escribir."
   ],
   "metadata": {}
  },
  {
   "cell_type": "code",
   "execution_count": null,
   "source": [
    "# Datos con los que vas a trabajar\r\n",
    "nombre = \"Moon\"\r\n",
    "gravedad = 0.00162 # in kms\r\n",
    "planeta = \"Earth\"\r\n",
    "titulo = f\"\"\"Facts de gravedad sobre {planeta}\"\"\".title()\r\n",
    "print(titulo)\r\n"
   ],
   "outputs": [],
   "metadata": {}
  },
  {
   "cell_type": "markdown",
   "source": [
    "Ahora crea una plantilla de cadena multilínea para contener el resto de la información. En lugar de usar kilómetros, debes convertir la distancia a metros multiplicando por 1,000."
   ],
   "metadata": {}
  },
  {
   "cell_type": "code",
   "execution_count": null,
   "source": [
    "hechos = f\"\"\"Nombre del planeta: {nombre}\r\n",
    "Gravedad en {planeta}: {gravedad*1000} m/s2\r\n",
    "\"\"\".title()\r\n",
    "print(hechos)"
   ],
   "outputs": [],
   "metadata": {}
  },
  {
   "cell_type": "markdown",
   "source": [
    "Finalmente, usa ambas variables para unir el título y los hechos."
   ],
   "metadata": {}
  },
  {
   "cell_type": "code",
   "execution_count": null,
   "source": [
    "full_text = f\"\"\"{titulo.title()} \r\n",
    "------------------------------------------\r\n",
    "{hechos} \r\n",
    "\"\"\"\r\n",
    "print (full_text) ### Se genera nueva cadena F a partir de ambas cadenas, recordemos que f se evalua en ejecucion por lo que el string almacenado es el resultado de F"
   ],
   "outputs": [],
   "metadata": {}
  },
  {
   "cell_type": "markdown",
   "source": [
    "Ahora usa información de una luna diferente para ver si la plantilla todavía funciona.\r\n",
    "\r\n",
    "Datos muestra:\r\n",
    "\r\n",
    "planeta = 'Marte '\r\n",
    "gravedad  = 0.00143\r\n",
    "nombre = 'Ganímedes'"
   ],
   "metadata": {}
  },
  {
   "cell_type": "code",
   "execution_count": null,
   "source": [
    "# Datos con los que vas a trabajar\r\n",
    "nombre = \"Ganimides\"\r\n",
    "gravedad = 0.00143 # in kms\r\n",
    "planeta = \"Marte\"\r\n",
    "\r\n",
    "print(full_text) #La cadena F se imprime con los valores anteriores, String se almacena como resultado de evaluacion, por eso no cambia."
   ],
   "outputs": [],
   "metadata": {}
  },
  {
   "cell_type": "markdown",
   "source": [
    "La salida no muestra información sobre Marte. Todavía muestra información sobre la Luna. Esto sucede porque las cadenas f están ansiosas en su evaluación, por lo que las variables una vez asignadas no se pueden reasignar. Para evitar este problema, vuelva a hacer la plantilla para utilizar .format():"
   ],
   "metadata": {}
  },
  {
   "cell_type": "code",
   "execution_count": null,
   "source": [
    "new_full_text = \"\"\"\r\n",
    "Facts de Gravedad Sobre {name}\r\n",
    "----------------------------------\r\n",
    "Nombre del planeta: {planet}\r\n",
    "Gravedad en {name}: {gravity} m/s2\r\n",
    "\"\"\"\r\n",
    "print(new_full_text.format(planet = planeta, name=nombre, gravity=gravedad)) # se usa mejor format en este caso para mantener una cadena evaluable y reutilizable"
   ],
   "outputs": [],
   "metadata": {}
  },
  {
   "cell_type": "markdown",
   "source": [
    "Debido a que .format() no permite expresiones, la gravedad en Ganímedes es incorrecta. Asegúrese de que la operación se realiza fuera de la plantilla de formato e imprima de nuevo para ver el resultado de trabajo."
   ],
   "metadata": {}
  },
  {
   "cell_type": "code",
   "execution_count": null,
   "source": [
    "print(new_full_text.format(planet = planeta, name=nombre, gravity=gravedad *1000))"
   ],
   "outputs": [],
   "metadata": {}
  }
 ],
 "metadata": {
  "orig_nbformat": 4,
  "language_info": {
   "name": "python",
   "version": "3.10.2",
   "mimetype": "text/x-python",
   "codemirror_mode": {
    "name": "ipython",
    "version": 3
   },
   "pygments_lexer": "ipython3",
   "nbconvert_exporter": "python",
   "file_extension": ".py"
  },
  "kernelspec": {
   "name": "python3",
   "display_name": "Python 3.10.2 64-bit"
  },
  "interpreter": {
   "hash": "9dbb5876042b335627474d96de98e6d73df4723efd059702f0a28d52a6f2d5fc"
  }
 },
 "nbformat": 4,
 "nbformat_minor": 2
}